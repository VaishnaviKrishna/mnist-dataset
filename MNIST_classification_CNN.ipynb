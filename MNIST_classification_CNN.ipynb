{
 "cells": [
  {
   "cell_type": "code",
   "execution_count": 2,
   "metadata": {},
   "outputs": [],
   "source": [
    "import keras\n",
    "from keras.datasets import mnist\n",
    "from keras.models import Sequential\n",
    "from keras.layers import Dense, Dropout, Flatten\n",
    "from keras.layers import Conv2D, MaxPooling2D\n",
    "from keras import backend as K\n",
    "import numpy as np\n",
    "from keras.utils import np_utils"
   ]
  },
  {
   "cell_type": "code",
   "execution_count": 3,
   "metadata": {},
   "outputs": [],
   "source": [
    "# the data, split between train and test sets\n",
    "(x_train, y_train), (x_test, y_test) = mnist.load_data()"
   ]
  },
  {
   "cell_type": "code",
   "execution_count": 4,
   "metadata": {},
   "outputs": [],
   "source": [
    "img_rows=28\n",
    "img_cols=28\n",
    "\n",
    "if K.image_data_format() == 'channels_first':\n",
    "    x_train = x_train.reshape(x_train.shape[0], 1, img_rows, img_cols)\n",
    "    x_test = x_test.reshape(x_test.shape[0], 1, img_rows, img_cols)\n",
    "    input_shape = (1, img_rows, img_cols)\n",
    "else:\n",
    "    x_train = x_train.reshape(x_train.shape[0], img_rows, img_cols, 1)\n",
    "    x_test = x_test.reshape(x_test.shape[0], img_rows, img_cols, 1)\n",
    "    input_shape = (img_rows, img_cols, 1)"
   ]
  },
  {
   "cell_type": "code",
   "execution_count": 5,
   "metadata": {},
   "outputs": [],
   "source": [
    "x_train_padded=np.zeros([60000,32,32,1])\n",
    "x_test_padded=np.zeros([10000,32,32,1])\n",
    "\n",
    "import numpy as np\n",
    "\n",
    "for k in range(len(x_train[:,0,0,0])):\n",
    "    x_train_padded[k,:,:,0]=np.pad(x_train[k,:,:,0],((2,2),(2,2)),'edge')\n",
    "\n",
    "for k in range(len(x_test[:,0,0,0])):\n",
    "    x_test_padded[k,:,:,0]=np.pad(x_test[k,:,:,0],((2,2),(2,2)),'edge')"
   ]
  },
  {
   "cell_type": "code",
   "execution_count": 6,
   "metadata": {},
   "outputs": [],
   "source": [
    "#x_train_padded_neg=255-x_train_padded\n",
    "#x_test_padded_neg=255-x_test_padded"
   ]
  },
  {
   "cell_type": "code",
   "execution_count": null,
   "metadata": {},
   "outputs": [],
   "source": []
  },
  {
   "cell_type": "code",
   "execution_count": null,
   "metadata": {},
   "outputs": [],
   "source": []
  },
  {
   "cell_type": "code",
   "execution_count": null,
   "metadata": {},
   "outputs": [],
   "source": [
    "#x_train_final=np.zeros([120000,32,32,1])\n",
    "#x_test_final=np.zeros([20000,32,32,1])\n",
    "\n",
    "#x_train_final=np.concatenate((x_train_padded,x_train_padded_neg))\n",
    "#x_test_final=np.concatenate((x_test_padded,x_test_padded_neg))\n",
    "\n",
    "#y_train_final=np.concatenate((y_train,y_train))\n",
    "#y_test_final=np.concatenate((y_test,y_test))\n"
   ]
  },
  {
   "cell_type": "code",
   "execution_count": null,
   "metadata": {},
   "outputs": [],
   "source": [
    "#Building the sequential model\n",
    "num_classes=10  #Output layer size\n",
    "\n",
    "seqmodel = Sequential()\n",
    "seqmodel.add(Conv2D(6, kernel_size=(5, 5), padding='valid',data_format='channels_last',strides=1,\n",
    "                 activation='relu',\n",
    "                 input_shape=(32,32,1)))\n",
    "seqmodel.add(MaxPooling2D(pool_size=(2, 2)))\n",
    "seqmodel.add(Conv2D(16, kernel_size=(5, 5), activation='relu'))\n",
    "seqmodel.add(MaxPooling2D(pool_size=(2, 2)))\n",
    "#seqmodel.add(Dropout(0.25))\n",
    "seqmodel.add(Flatten())  #to dissolve the grid and put it in a linear structure i.e., same as deep neural network\n",
    "seqmodel.add(Dense(120, activation='relu'))\n",
    "seqmodel.add(Dense(84, activation='relu'))\n",
    "seqmodel.add(Dense(num_classes, activation='softmax'))"
   ]
  },
  {
   "cell_type": "code",
   "execution_count": null,
   "metadata": {},
   "outputs": [],
   "source": [
    "y_train_encoded=np_utils.to_categorical(y_train,num_classes)\n",
    "y_test_encoded=np_utils.to_categorical(y_test,num_classes)"
   ]
  },
  {
   "cell_type": "code",
   "execution_count": null,
   "metadata": {},
   "outputs": [],
   "source": [
    "from keras import losses,optimizers,metrics\n",
    "\n",
    "seqmodel.compile(loss = 'categorical_crossentropy',optimizer = keras.optimizers.RMSprop(lr=0.001),\n",
    "                 metrics = ['accuracy'])"
   ]
  },
  {
   "cell_type": "code",
   "execution_count": null,
   "metadata": {},
   "outputs": [
    {
     "name": "stdout",
     "output_type": "stream",
     "text": [
      "Epoch 1/20\n",
      "60000/60000 [==============================] - 98s 2ms/step - loss: 14.5282 - acc: 0.0985\n",
      "Epoch 2/20\n",
      "60000/60000 [==============================] - 54s 906us/step - loss: 14.5270 - acc: 0.0987\n",
      "Epoch 3/20\n",
      "60000/60000 [==============================] - 54s 906us/step - loss: 14.5270 - acc: 0.0987\n",
      "Epoch 4/20\n",
      "60000/60000 [==============================] - 54s 894us/step - loss: 14.5270 - acc: 0.0987\n",
      "Epoch 5/20\n",
      "60000/60000 [==============================] - 53s 890us/step - loss: 14.5270 - acc: 0.0987\n",
      "Epoch 6/20\n",
      "60000/60000 [==============================] - 54s 896us/step - loss: 14.5270 - acc: 0.0987\n",
      "Epoch 7/20\n",
      "60000/60000 [==============================] - 54s 894us/step - loss: 14.5270 - acc: 0.0987\n",
      "Epoch 8/20\n",
      "60000/60000 [==============================] - 53s 890us/step - loss: 14.5270 - acc: 0.0987\n",
      "Epoch 9/20\n",
      "60000/60000 [==============================] - 54s 895us/step - loss: 14.5270 - acc: 0.0987\n",
      "Epoch 10/20\n",
      "60000/60000 [==============================] - 54s 895us/step - loss: 14.5270 - acc: 0.0987\n",
      "Epoch 11/20\n",
      "60000/60000 [==============================] - 54s 903us/step - loss: 14.5270 - acc: 0.0987\n",
      "Epoch 12/20\n",
      "60000/60000 [==============================] - 54s 900us/step - loss: 14.5270 - acc: 0.0987\n",
      "Epoch 13/20\n",
      "60000/60000 [==============================] - 54s 896us/step - loss: 14.5270 - acc: 0.0987\n",
      "Epoch 14/20\n",
      "60000/60000 [==============================] - 8528s 142ms/step - loss: 14.5270 - acc: 0.0987\n",
      "Epoch 15/20\n",
      "60000/60000 [==============================] - 60s 998us/step - loss: 14.5270 - acc: 0.0987\n",
      "Epoch 16/20\n",
      "60000/60000 [==============================] - 58s 970us/step - loss: 14.5270 - acc: 0.0987\n",
      "Epoch 17/20\n",
      "60000/60000 [==============================] - 57s 946us/step - loss: 14.5270 - acc: 0.0987\n",
      "Epoch 18/20\n",
      "60000/60000 [==============================] - 57s 954us/step - loss: 14.5270 - acc: 0.0987\n",
      "Epoch 19/20\n",
      "60000/60000 [==============================] - 56s 934us/step - loss: 14.5270 - acc: 0.0987\n",
      "Epoch 20/20\n",
      "60000/60000 [==============================] - 61s 1ms/step - loss: 14.5270 - acc: 0.0987\n"
     ]
    }
   ],
   "source": [
    "history=seqmodel.fit(x_train_padded, y_train_encoded, \n",
    "  epochs = 20, batch_size = 256)"
   ]
  },
  {
   "cell_type": "code",
   "execution_count": null,
   "metadata": {},
   "outputs": [],
   "source": [
    "from matplotlib import pyplot as plt\n",
    "%matplotlib inline\n",
    "# summarize history for accuracy\n",
    "plt.plot(history.history['acc'])\n",
    "plt.plot(history.history['val_acc'])\n",
    "plt.title('model accuracy')\n",
    "plt.ylabel('accuracy')\n",
    "plt.xlabel('epoch')\n",
    "plt.legend(['train', 'test'], loc='upper left')\n",
    "plt.show()\n",
    "# summarize history for loss\n",
    "plt.plot(history.history['loss'])\n",
    "plt.plot(history.history['val_loss'])\n",
    "plt.title('model loss')\n",
    "plt.ylabel('loss')\n",
    "plt.xlabel('epoch')\n",
    "plt.legend(['train', 'test'], loc='upper left')\n",
    "plt.show()"
   ]
  },
  {
   "cell_type": "code",
   "execution_count": null,
   "metadata": {},
   "outputs": [],
   "source": [
    "x_test_padded_neg=255-x_test_padded\n",
    "score=seqmodel.evaluate(x_test_padded_neg,y_test_encoded)\n",
    "score"
   ]
  },
  {
   "cell_type": "code",
   "execution_count": null,
   "metadata": {},
   "outputs": [],
   "source": [
    "#from matplotlib import pyplot as plt\n",
    "\n",
    "#%matplotlib inline\n",
    "#plt.imshow(x_test_padded[0], cmap=plt.cm.gray_r)"
   ]
  },
  {
   "cell_type": "code",
   "execution_count": null,
   "metadata": {},
   "outputs": [],
   "source": [
    "history.history['acc'][19]   #value here will be epochs-1"
   ]
  },
  {
   "cell_type": "code",
   "execution_count": null,
   "metadata": {},
   "outputs": [],
   "source": [
    "history.history['loss'][19]   #value here will be epochs-1"
   ]
  },
  {
   "cell_type": "code",
   "execution_count": null,
   "metadata": {},
   "outputs": [],
   "source": [
    "#import statistics\n",
    "\n",
    "#accuracy=statistics.mean(history.history['acc'])\n",
    "#loss=statistics.mean(history.history['loss'])"
   ]
  },
  {
   "cell_type": "code",
   "execution_count": null,
   "metadata": {},
   "outputs": [],
   "source": [
    "from matplotlib import pyplot as plt\n",
    "%matplotlib inline\n",
    "# summarize history for accuracy\n",
    "plt.plot(history.history['acc'])\n",
    "#plt.plot(history.history['val_acc'])\n",
    "plt.title('model accuracy')\n",
    "plt.ylabel('accuracy')\n",
    "plt.xlabel('epoch')\n",
    "#plt.legend(['train', 'test'], loc='upper left')\n",
    "plt.show()\n",
    "# summarize history for loss\n",
    "plt.plot(history.history['loss'])\n",
    "#plt.plot(history.history['val_loss'])\n",
    "plt.title('model loss')\n",
    "plt.ylabel('loss')\n",
    "plt.xlabel('epoch')\n",
    "#plt.legend(['train', 'test'], loc='upper left')\n",
    "plt.show()"
   ]
  },
  {
   "cell_type": "code",
   "execution_count": null,
   "metadata": {},
   "outputs": [],
   "source": [
    "#accuracy=statistics.stdev(history.history['acc'])\n",
    "#loss=statistics.stdev(history.history['loss'])"
   ]
  },
  {
   "cell_type": "code",
   "execution_count": null,
   "metadata": {},
   "outputs": [],
   "source": [
    "from matplotlib import pyplot as plt\n",
    "%matplotlib inline\n",
    "# summarize history for accuracy\n",
    "#plt.plot(history.history['acc'])\n",
    "plt.plot(history.history['val_acc'])\n",
    "plt.title('model accuracy')\n",
    "plt.ylabel('accuracy')\n",
    "plt.xlabel('epoch')\n",
    "#plt.legend(['train', 'test'], loc='upper left')\n",
    "plt.show()\n",
    "# summarize history for loss\n",
    "#plt.plot(history.history['loss'])\n",
    "plt.plot(history.history['val_loss'])\n",
    "plt.title('model loss')\n",
    "plt.ylabel('loss')\n",
    "plt.xlabel('epoch')\n",
    "#plt.legend(['train', 'test'], loc='upper left')\n",
    "plt.show()"
   ]
  },
  {
   "cell_type": "code",
   "execution_count": null,
   "metadata": {},
   "outputs": [],
   "source": [
    "#max(history.history['acc'])"
   ]
  },
  {
   "cell_type": "code",
   "execution_count": null,
   "metadata": {},
   "outputs": [],
   "source": [
    "training_accuracies=[0.9975166,0.998566,0.9984,0.9919833,0.99550]\n",
    "test_accuracies=[0.9889,0.9858,0.9888,0.9886,0.981]\n",
    "import statistics\n",
    "statistics.mean(test_accuracies)\n",
    "statistics.variance(test_accuracies)"
   ]
  },
  {
   "cell_type": "code",
   "execution_count": null,
   "metadata": {},
   "outputs": [],
   "source": [
    "(0.9975166+0.998566+0.9984+0.9919833+0.99550)/5"
   ]
  },
  {
   "cell_type": "code",
   "execution_count": null,
   "metadata": {},
   "outputs": [],
   "source": [
    "#from matplotlib import pyplot as plt\n",
    "\n",
    "#%matplotlib inline\n",
    "#plt.imshow(x_train_padded_neg[0,:,:,0], cmap=plt.cm.gray_r)"
   ]
  },
  {
   "cell_type": "code",
   "execution_count": null,
   "metadata": {},
   "outputs": [],
   "source": [
    "#for k in range(len(x_train[:,0,0,0])):"
   ]
  }
 ],
 "metadata": {
  "kernelspec": {
   "display_name": "Python 3",
   "language": "python",
   "name": "python3"
  },
  "language_info": {
   "codemirror_mode": {
    "name": "ipython",
    "version": 3
   },
   "file_extension": ".py",
   "mimetype": "text/x-python",
   "name": "python",
   "nbconvert_exporter": "python",
   "pygments_lexer": "ipython3",
   "version": "3.6.8"
  }
 },
 "nbformat": 4,
 "nbformat_minor": 2
}
